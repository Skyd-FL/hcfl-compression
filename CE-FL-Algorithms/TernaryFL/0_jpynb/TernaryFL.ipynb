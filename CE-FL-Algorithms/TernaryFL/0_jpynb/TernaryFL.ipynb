{
  "nbformat": 4,
  "nbformat_minor": 0,
  "metadata": {
    "colab": {
      "name": "TernaryFL.ipynb",
      "provenance": [],
      "collapsed_sections": [
        "AQv1yCDgutJU",
        "0NY6Xn6huxKq",
        "XWfFqa3Nu1R6",
        "luQa61ZbvIna",
        "NJLQojatvLiS"
      ]
    },
    "kernelspec": {
      "name": "python3",
      "display_name": "Python 3"
    },
    "language_info": {
      "name": "python"
    }
  },
  "cells": [
    {
      "cell_type": "markdown",
      "metadata": {
        "id": "AQv1yCDgutJU"
      },
      "source": [
        "# 0. Import packages"
      ]
    },
    {
      "cell_type": "code",
      "metadata": {
        "id": "Zuy3DqN4uPl3"
      },
      "source": [
        ""
      ],
      "execution_count": null,
      "outputs": []
    },
    {
      "cell_type": "markdown",
      "metadata": {
        "id": "0NY6Xn6huxKq"
      },
      "source": [
        "# 1. Setup Dataset"
      ]
    },
    {
      "cell_type": "code",
      "metadata": {
        "id": "Kzi4t__yu0x4"
      },
      "source": [
        ""
      ],
      "execution_count": null,
      "outputs": []
    },
    {
      "cell_type": "markdown",
      "metadata": {
        "id": "XWfFqa3Nu1R6"
      },
      "source": [
        "# 2. Model"
      ]
    },
    {
      "cell_type": "markdown",
      "metadata": {
        "id": "JvyWb3hZu8bi"
      },
      "source": [
        "## 2.a. LeNet-5"
      ]
    },
    {
      "cell_type": "code",
      "metadata": {
        "id": "5f08KG17vFQK"
      },
      "source": [
        ""
      ],
      "execution_count": null,
      "outputs": []
    },
    {
      "cell_type": "markdown",
      "metadata": {
        "id": "IZW9isWNvCFK"
      },
      "source": [
        "## 2.a. CNN-5"
      ]
    },
    {
      "cell_type": "code",
      "metadata": {
        "id": "muq2zOG2vEry"
      },
      "source": [
        ""
      ],
      "execution_count": null,
      "outputs": []
    },
    {
      "cell_type": "markdown",
      "metadata": {
        "id": "luQa61ZbvIna"
      },
      "source": [
        "# 3. Tools"
      ]
    },
    {
      "cell_type": "markdown",
      "metadata": {
        "id": "MDizNbCjvkCq"
      },
      "source": [
        "## 3.a. FTTQ"
      ]
    },
    {
      "cell_type": "code",
      "metadata": {
        "id": "14X1jJupvLKb"
      },
      "source": [
        ""
      ],
      "execution_count": null,
      "outputs": []
    },
    {
      "cell_type": "markdown",
      "metadata": {
        "id": "UWomkXcXvmSa"
      },
      "source": [
        "## 3.b. Fed_Operator"
      ]
    },
    {
      "cell_type": "code",
      "metadata": {
        "id": "tknAfcQmvrFq"
      },
      "source": [
        ""
      ],
      "execution_count": null,
      "outputs": []
    },
    {
      "cell_type": "markdown",
      "metadata": {
        "id": "GcSHLWmcvoui"
      },
      "source": [
        "## 3.c. Ternary"
      ]
    },
    {
      "cell_type": "code",
      "metadata": {
        "id": "aTWzTriuvqsa"
      },
      "source": [
        ""
      ],
      "execution_count": null,
      "outputs": []
    },
    {
      "cell_type": "markdown",
      "metadata": {
        "id": "NJLQojatvLiS"
      },
      "source": [
        "# 4. Utils"
      ]
    },
    {
      "cell_type": "markdown",
      "metadata": {
        "id": "UnmcRlE9vQni"
      },
      "source": [
        "## 4.a. Evaluate"
      ]
    },
    {
      "cell_type": "code",
      "metadata": {
        "id": "-I36BYFdvTGq"
      },
      "source": [
        ""
      ],
      "execution_count": null,
      "outputs": []
    },
    {
      "cell_type": "markdown",
      "metadata": {
        "id": "ADehH7d9vUhy"
      },
      "source": [
        "## 4.b. Config"
      ]
    },
    {
      "cell_type": "code",
      "metadata": {
        "id": "PaFMdoThvWfa"
      },
      "source": [
        ""
      ],
      "execution_count": null,
      "outputs": []
    }
  ]
}